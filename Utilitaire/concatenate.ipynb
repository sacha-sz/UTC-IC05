{
 "cells": [
  {
   "attachments": {},
   "cell_type": "markdown",
   "metadata": {},
   "source": [
    "Voici le code correspondant à la concaténation de tous les fichiers en un seul dataset.\n"
   ]
  },
  {
   "cell_type": "code",
   "execution_count": 4,
   "metadata": {},
   "outputs": [],
   "source": [
    "import os\n",
    "import pandas as pd\n"
   ]
  },
  {
   "cell_type": "code",
   "execution_count": 5,
   "metadata": {},
   "outputs": [],
   "source": [
    "# récupération des chemins des fichiers\n",
    "data_folder = os.path.join(os.getcwd(), '../data_original')\n",
    "files_names = os.listdir(data_folder)\n",
    "files_paths = [os.path.join(data_folder, file_name)\n",
    "               for file_name in files_names]\n"
   ]
  },
  {
   "cell_type": "code",
   "execution_count": null,
   "metadata": {},
   "outputs": [],
   "source": [
    "# concaténation des fichiers\n",
    "# NOTE: Commentez cette cellule si vous avez déjà \"merged_data.csv\", la cellule\n",
    "# est un peu longue à s'exécuter (~2min30)\n",
    "\n",
    "merged_df = pd.DataFrame()\n",
    "for file_path in files_paths:\n",
    "    if file_path.endswith('.xlsx'):\n",
    "        df = pd.read_excel(file_path, engine='openpyxl')\n",
    "        merged_df = pd.concat([merged_df, df], ignore_index=True)\n",
    "\n",
    "merged_df.to_csv(os.path.join(data_folder, 'merged_data.csv'), index=False)\n",
    "\n",
    "# affichage des dimensions du dataframe\n",
    "merged_df.shape\n"
   ]
  }
 ],
 "metadata": {
  "kernelspec": {
   "display_name": "Python 3",
   "language": "python",
   "name": "python3"
  },
  "language_info": {
   "codemirror_mode": {
    "name": "ipython",
    "version": 3
   },
   "file_extension": ".py",
   "mimetype": "text/x-python",
   "name": "python",
   "nbconvert_exporter": "python",
   "pygments_lexer": "ipython3",
   "version": "3.10.11"
  },
  "orig_nbformat": 4
 },
 "nbformat": 4,
 "nbformat_minor": 2
}
